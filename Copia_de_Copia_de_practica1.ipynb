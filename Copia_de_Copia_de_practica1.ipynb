{
  "cells": [
    {
      "cell_type": "markdown",
      "metadata": {
        "id": "view-in-github",
        "colab_type": "text"
      },
      "source": [
        "<a href=\"https://colab.research.google.com/github/cit08/Phyton_2/blob/main/Copia_de_Copia_de_practica1.ipynb\" target=\"_parent\"><img src=\"https://colab.research.google.com/assets/colab-badge.svg\" alt=\"Open In Colab\"/></a>"
      ]
    },
    {
      "cell_type": "markdown",
      "metadata": {
        "id": "8d9dc823"
      },
      "source": [
        "# Práctica 1\n",
        "* Puede resolver aquí los ejercicios abriendo una celda después de cada uno de los enunciados.  \n",
        "* Por favor, documente la solución de los ejercicios añadiendo suficientes **comentarios** del programador que expliquen el código."
      ],
      "id": "8d9dc823"
    },
    {
      "cell_type": "markdown",
      "metadata": {
        "id": "be4f1980"
      },
      "source": [
        "## Ejercicio 1.1. Elevar al cuadrado\n",
        "* Imprimir en pantalla el cuadrado de todos los números del 1 al 100, ambos incluidos.\n",
        "* Mostrarlos en forma de columnas. Algo parecido a:\n",
        " - 1 → 1\n",
        " - 2 → 4\n",
        " - 3 → 9\n",
        " - 4 → 16\n",
        " - 5 → 25\n",
        " - ... ... ...\n",
        " - 100 → 10,000"
      ],
      "id": "be4f1980"
    },
    {
      "cell_type": "code",
      "execution_count": null,
      "metadata": {
        "id": "ZD_Kn4tk52IL"
      },
      "outputs": [],
      "source": [
        "for a in range(1,101):  # se crea un bluce de rango 1 a 100\n",
        "  b=a*a                 # se obtiene el cuadrado del numero solo multiplicando el mismo numero\n",
        "  print(f\"{a} -> {b}\")\n"
      ],
      "id": "ZD_Kn4tk52IL"
    },
    {
      "cell_type": "markdown",
      "metadata": {
        "id": "54892e96"
      },
      "source": [
        "## Ejercicio 1.2. Listar números pares\n",
        "* Pedir al usuario dos números enteros, que pueden ser positivos o negativos.\n",
        "* Comprobar que el primer número introducido es menor que el segundo\n",
        "* Mostrar en pantalla todos los números pares comprendidos entre ellos\n",
        "* El cero se considera par"
      ],
      "id": "54892e96"
    },
    {
      "cell_type": "code",
      "execution_count": null,
      "metadata": {
        "id": "HmfZLd2BAKXH"
      },
      "outputs": [],
      "source": [
        "print(\"Por favor, escribir dos numeros enteros (pueden ser positvos o negativos)\")\n",
        "a = int(input(\"Indique el primer número: \"))  # Se pide al usuario ingres un numero y se ingresa como un valor entero\n",
        "b = int(input(\"Indique el segundo número: \"))\n",
        "if a<b:                                       # Con un condicional se pregunta si el primer valor ingresado es menor al segundo\n",
        "    print([a for a in range(a,b) if a%2==0]). # si es así, se crea un bucle para el numero menor \"a\" y se verifica que que es par\n",
        "elif b>a:                                    \n",
        "    print(\"El valor del segundo número debe ser mayor que el primero\")\n",
        "else:\n",
        "    print(\"Son iguales.\")\n"
      ],
      "id": "HmfZLd2BAKXH"
    },
    {
      "cell_type": "markdown",
      "source": [
        ""
      ],
      "metadata": {
        "id": "fjJTdwA_4Zzv"
      },
      "id": "fjJTdwA_4Zzv"
    },
    {
      "cell_type": "markdown",
      "metadata": {
        "id": "XbpVLZVjqvtK"
      },
      "source": [
        "## Ejercicio 1.3. Comparar varias parejas de números\n",
        "* Pedir al usuario dos números y decir cuál es:\n",
        " - el mayor\n",
        " - el menor\n",
        " - o si son iguales.\n",
        "* Seguir pidiendo números hasta que se introduzca algún valor:\n",
        " - negativo o \n",
        " - que no sea numérico\n",
        "* Los números solicitados podrán ser números con decimales."
      ],
      "id": "XbpVLZVjqvtK"
    },
    {
      "cell_type": "code",
      "execution_count": null,
      "metadata": {
        "id": "wbq6mBR5gUak"
      },
      "outputs": [],
      "source": [
        "while True:                                              #En un ciclo while se pide introducir dos numeros se sale del while si no cumple las condiciones requeridas\n",
        "  print(\"Por favor, escribir dos números\")\n",
        "  a = float(input(\"Indique el primer número: \"))\n",
        "  b = float(input(\"Indique el segundo número: \"))\n",
        "  if a<0 or b<0:                                         #Si ambos numeros son negativos termina el programa\n",
        "    break\n",
        "  elif a>b:                                              #Compara los valores introducidos mediante elif\n",
        "    print(f\"El mayor es {a} y el menor es {b}.\")\n",
        "  elif a<b:\n",
        "    print(f\"El mayor es {b} y el menor es {a}.\")\n",
        "  elif a==b:\n",
        "    print(\"Los dos números son iguales\")\n",
        "print(\"se ha introducido un número negativo o un valor no válido.\\Fin del programa.\")"
      ],
      "id": "wbq6mBR5gUak"
    },
    {
      "cell_type": "markdown",
      "metadata": {
        "id": "8c57fbec"
      },
      "source": [
        "## Ejercicio 1.4. Media de una serie de números\n",
        "* Solicitar al usuario que introduzca reiteradamente números no negativos. Formar una lista con esos números.\n",
        "* Se interrumpe la petición de números cuando el usuario introduzca un número negativo. El número negativo no se incorporará a la lista de números captados.\n",
        "* Mostrar en pantalla la lista de números no negativos introducidos.\n",
        "* Mostrar en pantalla la suma y la media de los números de la lista.\n",
        "* Indicar cuántos valores de la lista son superiores a la media.\n",
        "* *Nota:* \n",
        "Los números \"no negativos\" son números positivos o cero, que pueden ser enteros o con decimales."
      ],
      "id": "8c57fbec"
    },
    {
      "cell_type": "code",
      "execution_count": null,
      "metadata": {
        "id": "i5ftOxltDO8m"
      },
      "outputs": [],
      "source": [
        "while True:                                                #Mediante un while se pide al usuario números no negativos, si se ingresa un número negativo se termina el prog.\n",
        "  n = float(input(\"Indique un número entero no negativo: \"))\n",
        "  if n<0:\n",
        "    break\n",
        "  else:                                                    #Si se cumple la condición de un número positivo se añada en la lista con appende\n",
        "    lista.append(n)       \n",
        "print(\"Fin del Programa. Se introdujo un valor negativo\")\n",
        "print(f\"La lista creada es : {lista}\") \n",
        "print(f\"La suma de la lista es : {sum(lista)}\")\n",
        "print(f\"El promedio de la lista es : {sum(lista)/len(lista)}\")\n",
        "lista.clear()                                               # al final se borra la lista para iniciar nuevamente"
      ],
      "id": "i5ftOxltDO8m"
    },
    {
      "cell_type": "markdown",
      "metadata": {
        "id": "f2bb8aa7"
      },
      "source": [
        "## Ejercicio 1.5. Calculadora\n",
        "* Pedir al usuario dos números con posible decimales\n",
        "* Si alguno de los valores introducidos no es un número válido, por ejemplo una letra o un símbolo, seguir pidiendo valores hasta que el usuario introduzca números válidos.\n",
        "* Crear un **menú** donde el usuario pueda elegir que operación desea hacer con esos dos números:\n",
        " 1. suma\n",
        " 2. resta\n",
        " 3. multiplicación\n",
        " 4. división\n",
        " 5. división entera\n",
        " 6. resto o módulo\n",
        " 7. potencias\n",
        "* En el menú debe haber una opción para realizar las siete operaciones con esos dos números, realizadas todas ellas de una sola vez.\n",
        "* En el menú debe haber una opción para salir del programa.\n",
        "* Utilice **control de errores** para evitar el error de división entre cero. Utilice `try`, `except`."
      ],
      "id": "f2bb8aa7"
    },
    {
      "cell_type": "code",
      "execution_count": null,
      "metadata": {
        "id": "nRAQCZUiXABq"
      },
      "outputs": [],
      "source": [
        "valido = False\n",
        "\n",
        "while not valido:                                               #mediante un while creamos las opciones de una calculadora\n",
        "  print(\"Por favor, escribir dos números (pueden contener decimales)\")\n",
        "  try:\n",
        "    a = float(input(\"Indique el primer número: \"))              #solicitamos al usuario ingrese dos numeros              \n",
        "    b = float(input(\"Indique el segundo número: \"))\n",
        "    menu = '''\n",
        "    Calculadora\n",
        "    \\t 1. Suma\n",
        "    \\t 2. Resta\n",
        "    \\t 3. Multiplicación\n",
        "    \\t 4. División\n",
        "    \\t 5. División Entera\n",
        "    \\t 6. Resto o Módulo\n",
        "    \\t 7. Potencias\n",
        "    \\t 8. Todas las Operaciones\n",
        "    \\t 0. Salir del Programa\n",
        "    '''\n",
        "    print(menu)\n",
        "    n = input(\"Elija la opción deseada.\")                       #y que elija la operación a realizar\n",
        "    if n == '1':\n",
        "      print(f\"Ha elegido Sumar: {a+b}\")\n",
        "    elif n == '2':\n",
        "      print(f\"Ha elegido Restar: {a-b}\")\n",
        "    elif n == '3':\n",
        "      print(f\"Ha elegido Multiplicar:{a*b}\")\n",
        "    elif n == '4':\n",
        "      print(f\"Ha elegido Dividir:{a/b}\")\n",
        "    elif n == '5':\n",
        "      print(f\"Ha elegido Divión Entera:{a//b}\")\n",
        "    elif n == '6':\n",
        "      print(f\"Ha elegido Módulo o Resto:{a%b}\")\n",
        "    elif n == '7':\n",
        "      print(f\"Ha elegido Potencia:{a**b}\")\n",
        "    elif n == '8':\n",
        "      print(f\"Ha elegido Todas las operaciones: Suma:{a+b} Resta:{a+b} Multiplicacion:{a*b} División:{a/b} \\\n",
        "          Division Entera:{a//b} Modulo:{a%b} Potencia:{a**b}\")\n",
        "    elif n == '0':\n",
        "      print(\"Fin del programa\")\n",
        "    else:\n",
        "      print(\"Opción no válida.\")\n",
        "    valido = True                                             # si el usuario escribe un valor no valida sale del programa o que exista una divisón entre cero con Except\n",
        "  except ValueError:\n",
        "    print(\"Escribió un valor no válido. Inicie nuevamente\")\n",
        "  except ZeroDivisionError:\n",
        "    print(\"El denominador no puede ser cero. Inicie nuevamente.\")\n"
      ],
      "id": "nRAQCZUiXABq"
    },
    {
      "cell_type": "markdown",
      "metadata": {
        "id": "c0bc1641"
      },
      "source": [
        "## Ejercicio 1.6. Divisores de una serie de números\n",
        "* Generar un número aleatorio entre 2 y 1.000, ambos incluidos.\n",
        "* Mostrar en pantalla todos sus divisores y hacer lo mismo con los 10 números siguientes al número elegido aleatoriamente.\n",
        "* Si los divisores del número únicamente fueran 1 y el propio número, indicar que se trata de un número primo\n",
        "* Por ejemplo si el número aleatorio obtenido fuera 100 se vería algo parecido a esto:\n",
        "   - 100 -> [1,2,4,5,10,20,25,50,100]\n",
        "   - 101 -> Primo\n",
        "   - 102 -> [1,2,3,6,17,34,51,102]\n",
        "   - 103 -> Primo\n",
        "   - 104 -> [1,2,4,8,13,26,52,104]\n",
        "   - 105 -> [1,3,5,7,15,21,35,105]\n",
        "   - 106 -> [1,2,53,106]\n",
        "   - 107 -> Primo\n",
        "   - 108 -> [1,2,3,4,6,9,12,18,27,36,54,108]\n",
        "   - 109 -> Primo\n",
        "   - 110 -> [1,2,5,10,11,22,55,110]"
      ],
      "id": "c0bc1641"
    },
    {
      "cell_type": "code",
      "source": [
        "from random import randrange\n",
        "contador=0\n",
        "aleatorio=random.randint(1,1001)                            #se genera un numero aleatorio entre 2 y 1000\n",
        "print(aleatorio)\n",
        "for aleatorio in range(aleatorio,aleatorio+10):             #este número entra en un ciclo for inciando desde su valor hasta un número mayor a 10\n",
        "  print(f\"\\n{aleatorio} -> \", end=\"\")\n",
        "  for i in range(1, aleatorio+1):                           #entra en otro ciclo para evaluar sus divisores \n",
        "    if aleatorio % i == 0:\n",
        "        print(f\"{i}\", end=\",\")\n",
        "    #elif aleatorio % aleatorio == 0 and aleatorio % 1 == 0:\n",
        "     #   print(f\"Es primo\")\n",
        "    contador +=1"
      ],
      "metadata": {
        "id": "iuYGCGa-UjIl"
      },
      "id": "iuYGCGa-UjIl",
      "execution_count": null,
      "outputs": []
    },
    {
      "cell_type": "markdown",
      "metadata": {
        "id": "c53d7a67"
      },
      "source": [
        "## Ejercicio 1.7. Comparar medias de aleatorios con funciones\n",
        "* Generar 12 números aleatorios entre 0 y 100 y calcular su media.\n",
        "* Generar otros 12 números aleatorios entre 0 y 100 y calcular su media.\n",
        "* Mostrar en pantalla las dos listas\n",
        "* Finalmente muestre en pantalla las medias de ambas series y diga cuál de las dos ha resultado mayor.\n",
        "* Utilice una o varias **funciones** para lograrlo."
      ],
      "id": "c53d7a67"
    },
    {
      "cell_type": "code",
      "execution_count": null,
      "metadata": {
        "id": "I0h-iuUz_mPz"
      },
      "outputs": [],
      "source": [
        "from random import randint\n",
        "from statistics import mean\n",
        "\n",
        "def generaLista():\n",
        "    lista = []\n",
        "    for i in range(12):\n",
        "        lista.append(randint(0,100))\n",
        "    return lista\n",
        "\n",
        "lista1 = generaLista()\n",
        "lista2=generaLista()\n",
        "print(lista1)\n",
        "print(\"La media es\", mean(lista1))\n",
        "print(lista2)\n",
        "print(\"La media es\", mean(lista2))\n",
        "if mean(lista1)>mean(lista2):\n",
        "  print(f\"La media de la lista1 es mayor\")\n",
        "else:\n",
        "  print(f\"la media de la lista2 es mayor\")"
      ],
      "id": "I0h-iuUz_mPz"
    },
    {
      "cell_type": "markdown",
      "metadata": {
        "id": "a47f544e"
      },
      "source": [
        "## Ejercicio 1.8. Matriz con escalones\n",
        "* Dado el parámetro número de filas (n) crear una matriz:\n",
        " - El número de filas (n) puede variar aleatoriamente entre 1 y 20\n",
        " - El número de columnas siempre es el triple que el de filas\n",
        " - La matriz está compuesta por ceros y unos según la distribución que se muestra en la imagen, según sea el valor del parámetro n.\n",
        "* Se trata de imprimir la matriz en la terminal en función del valor de n que nos den.\n",
        "\n",
        "![matriz.png](https://drive.google.com/uc?id=1yff9bW_yu-U1aTdbR2mTmWkD31ZPrqnc)\n",
        "\n",
        "* Para n=5 se obtendría el siguiente resultado:\n",
        "\n",
        "![matriz.png](https://drive.google.com/uc?id=1Pz5wbwCls6DAwOh2SI0Nes-011nSLTjC)\n"
      ],
      "id": "a47f544e"
    },
    {
      "cell_type": "code",
      "source": [
        "import numpy as np\n",
        "n = int(input(\"Por favor, escribir el número de renglones de una matriz (del 1 a 20): \"))\n",
        "matriz = [[1 for j in range(3*n)] for i in range(n)]\n",
        "matrix = np.array(matriz)     # convertimos la matriz en un array con la librería numpy\n",
        "matrix[1:,3:] = 0\n",
        "matrix[1,:2] = 1\n",
        "\n",
        "print(str(matrix).replace(' [', '').replace('[', '').replace(']', ''))"
      ],
      "metadata": {
        "colab": {
          "base_uri": "https://localhost:8080/"
        },
        "id": "pOTtr1g5uPkE",
        "outputId": "24dbf027-12a8-4df0-fe8f-ea8c4ff992d2"
      },
      "id": "pOTtr1g5uPkE",
      "execution_count": null,
      "outputs": [
        {
          "output_type": "stream",
          "name": "stdout",
          "text": [
            "Por favor, escribir el número de renglones de una matriz (del 1 a 20): 2\n",
            "1 1 1 1 1 1\n",
            "1 1 1 0 0 0\n"
          ]
        }
      ]
    },
    {
      "cell_type": "markdown",
      "metadata": {
        "id": "e199291b"
      },
      "source": [
        "## Ejercicio 1.9. Frecuencia de caracteres de un libro\n",
        "* Analizar la frecuencia de todos los caracteres que contiene un libro\n",
        "* El libro es: \n",
        " - Frankenstein; Or, The Modern Prometheus by Mary Wollstonecraft Shelley\n",
        "* Se puede obtener libremente del proyecto Gutemberg en esta dirección:\n",
        "  - [Frankenstein](https://www.gutenberg.org/ebooks/84) \n",
        "* Mostrar en pantalla cuantas veces aparece cada letra del alfabeto.\n",
        "* Utilice un ***diccionario*** en Python para guardar cada carácter y su frecuencia."
      ],
      "id": "e199291b"
    },
    {
      "cell_type": "code",
      "source": [
        "# así efectuamos el clonado de nuestro repositorio que está en GitHub\n",
        "!git clone https://github.com/financieras/pyCourse.git\n",
        "# nos vamos hasta el directorio ejemplos\n",
        "%cd pyCourse/ejemplos\n",
        "contador = {}\n",
        "f = open(\"frankenstein.txt\")  # abrimos el archivo y lo asignamos a la variable f (file)\n",
        "libro = f.read()              # leemos el fichero\n",
        "\n",
        "for letra in libro.lower():  # para cada letra en libro (que se convierte todo a minusculas para comparar)\n",
        "    if letra not in contador: # si la letra no esta en contador\n",
        "      contador[letra] =1     # el contador en cada letra le asigna el valor de uno y en otor caso suma 1\n",
        "    else:\n",
        "      contador[letra] +=1\n",
        "\n",
        "for k, v in contador.items():\n",
        "  print(\"{}: {}\".format(k,v))"
      ],
      "metadata": {
        "id": "oTBUeJCkDqHg"
      },
      "id": "oTBUeJCkDqHg",
      "execution_count": null,
      "outputs": []
    },
    {
      "cell_type": "markdown",
      "metadata": {
        "id": "a6691e00"
      },
      "source": [
        "## Ejercicio 1.10. Detectar el número diferente\n",
        "* Utilice una función para generar un array de números enteros con una longitud aleatoria entre 6 y 15\n",
        "* Los números del array han de ser aleatorios enteros entre entre -99 y +99\n",
        "* Los números del array serán todos pares, menos uno de ellos que será impar, o bien\n",
        "* todos serán impares, menos uno de ellos que será par\n",
        "* Mostrar en pantalla el array\n",
        "* El objetivo es detectar el número que es diferente dentro del array\n",
        "* Crear una **función** a la que pasamos como parámetro el array generado\n",
        "* La función retorna ese número diferente que se ha de imprimir por pantalla\n",
        "* Utilice **funciones**\n",
        "\n",
        "##### Ejemplo 1\n",
        "  - [2, -4, 0, 92, 6, 11, 26, -58, -36]\n",
        "  - Debería retornar 11, ya que es el único número impar del array\n",
        "\n",
        "##### Ejemplo 2\n",
        "  - [-17, 3, 19, -79, 11, 16, -21, -33]\n",
        "  - Debería retornar 16, ya que es el único número par del array"
      ],
      "id": "a6691e00"
    },
    {
      "cell_type": "code",
      "source": [
        "import random\n",
        "\n",
        "nlistas = 0        # número de listas creadas\n",
        "n = random.randint(6,15)     # número de elementos de la lista\n",
        "hayimpar = False   # booleano para detectar un impar, inicialmente no hay impar\n",
        "\n",
        "while True:\n",
        "    l = random.sample(range(-98,100), n)  # aleatorios sin repetición\n",
        "    nlistas += 1\n",
        "    npares = 0   # cuenta cuántos pares existen\n",
        "    for i in l:\n",
        "        if i % 2 == 0:\n",
        "            npares += 1\n",
        "        else:\n",
        "            hayimpar = True\n",
        "    if npares == n-1 and hayimpar:\n",
        "        break\n",
        "l.sort()\n",
        "\n",
        "print(*l)\n",
        "for i,v in enumerate(l):        # i,v son el index y el valor\n",
        "    if v % 2:\n",
        "        print(\"    \" *i + \"**\")   # marca la posición del número impar\n",
        "        print(f\"El número diferente del array es: {l[i]}\")\n"
      ],
      "metadata": {
        "id": "a8cY_Qj6MddJ"
      },
      "id": "a8cY_Qj6MddJ",
      "execution_count": null,
      "outputs": []
    },
    {
      "cell_type": "markdown",
      "metadata": {
        "id": "77921deb"
      },
      "source": [
        "## Ejercicio 1.11. Edad\n",
        "* Establezca un procedimiento en el que el código toma la fecha del sistema e indicando su fecha de nacimiento le diga cuántos años tiene.\n",
        "* El programa también le dice cuantos días faltan para que llegue su próximo cumpleaños.\n",
        "* ¿Su código tiene en cuenta los años bisiestos?"
      ],
      "id": "77921deb"
    },
    {
      "cell_type": "code",
      "source": [
        "# Al código le estoy considerando bisiestos al dividirlo entre 365.2422\n",
        "\n",
        "from datetime import datetime\n",
        "import time\n",
        "from dateutil.relativedelta import relativedelta\n",
        "\n",
        "fecha = input(\"Por favor, indicar su fecha de nacimiento en el formato YYYY-MM-DD: \") #se pide al usuario la fecha de nacimiento en formato YYYY-MM-DD\n",
        "d1 = datetime.strptime(fecha, \"%Y-%m-%d\")            # Se ingresa la fecha y se denomina d1\n",
        "d2 = datetime.now()                                   \n",
        "d3 = d1 + relativedelta(years=1)                      # A la fecha de cumpleaños se le suma un año para conocer el proximo cumpleaños con relativedelta\n",
        "\n",
        "dias = abs((d2 - d1).days)\n",
        "d4 = d1 + relativedelta(years=(int(dias/365.2422)+1))\n",
        "cumple = abs((d4 - d2).days)\n",
        "print(f\"Usted tiene: {int(dias/365.2422)} años\")\n",
        "print(f\"Para tu próximo cumpleaños faltan: {cumple} dias\")"
      ],
      "metadata": {
        "id": "WLZ7lAxIqBEt"
      },
      "id": "WLZ7lAxIqBEt",
      "execution_count": null,
      "outputs": []
    },
    {
      "cell_type": "markdown",
      "metadata": {
        "id": "3968e33a"
      },
      "source": [
        "## Ejercicio 1.12. Comprobar si un número es primo\n",
        "* Genere e imprima una lista con los mil primeros números primos\n",
        "* La lista podría ser algo parecido a lo siguiente, donde el primer número primo es 2, el segundo es 3, el tercero es 5, hasta llegar al número mil que es 7.919\n",
        " - 1 → 2\n",
        " - 2 → 3\n",
        " - 3 → 5\n",
        " - 4 → 7\n",
        " - 5 → 11\n",
        " - 6 → 13\n",
        " - 7 → 17\n",
        " - ... ... ...\n",
        " - 1000 → 7919  \n",
        "* Luego genere un número aleatorio entero entre 2 y 7.919.\n",
        "* Muestre en pantalla el número aleatorio generado e indique si pertenece a la lista de los mil primeros números primos.\n",
        "* Si el número no pertenece a la lista imprima un mensaje indicando que el número no es primo, y en caso de serlo indique que lugar de la lista ocupa.\n",
        " - Por ejemplo, el número 17 habría que indicar que ocupa el lugar 7 en la lista de los números primos.\n",
        "* Utilice una o varias **funciones**\n",
        "* Finalmente indique cuanto tiempo ha tardado el programa en ejecutarse"
      ],
      "id": "3968e33a"
    },
    {
      "cell_type": "code",
      "source": [
        "#!/bin/python3  \n",
        "# Cálculo de los números primos desde 2 hasta uno dado  \n",
        "from math import sqrt  \n",
        "def primos_hasta(n):  \n",
        " lista_primos=[2] # el 2 es primo y todos los demás pares no lo son   \n",
        " for i in range(3,n+1,2): #tratamos solo los impares  \n",
        "  primo=True #inicialmente un número es primo hasta que no se demuestre lo contrario   \n",
        "  for j in range(3,int(sqrt(i)+1),2): #probamos hasta llegar a la raiz cuadrada de i  \n",
        "   if (i%j==0): #si el módulo es cero se debe a que es divisible y por tanto no es primo   \n",
        "    primo=False    \n",
        "    break  \n",
        "  if primo:  \n",
        "   lista_primos.append(i)  \n",
        " return lista_primos  \n",
        "cont =0;\n",
        "for num in primos_hasta(7920):\n",
        "  cont=cont+1\n",
        "  print(f\"{cont} -> {num}\", end= \"\\n\")\n",
        "\n",
        "#Generar un número aleatorio \n",
        "import random\n",
        "numero=random.randint(1,7920)\n",
        "print(numero)\n",
        "lista = numero in primos_hasta(7920)\n",
        "lista1=primos_hasta(7920)\n",
        "#print(lista1)\n",
        "if lista is False:\n",
        "  print(f\"El numero {numero} aleatorio no es primo\")\n",
        "else:\n",
        "  print(f\"El numero {numero} aleatorio si es primo y ocupa el lugar {lista1.index(numero)} dentro de la lista\")\n"
      ],
      "metadata": {
        "id": "TrLPYdhpkVEf"
      },
      "id": "TrLPYdhpkVEf",
      "execution_count": null,
      "outputs": []
    },
    {
      "cell_type": "markdown",
      "metadata": {
        "id": "d349d756"
      },
      "source": [
        "## Ejercicio 1.13. Números aleatorios con y sin repetición\n",
        "* Generar dos listas de 10 elementos cada una, con números enteros, aleatorios, entre 1 y 20\n",
        "* En una de las listas los números se pueden llegar a repetir y en la otra no se admiten repeticiones.\n",
        "* Generar una tercera lista con todos los elementos que se repitan en ellas\n",
        "* En esta tercera lista no debe repetirse ningún elemento\n",
        "* Imprimir las tres listas ordenadas"
      ],
      "id": "d349d756"
    },
    {
      "cell_type": "code",
      "source": [
        "import random\n",
        "\n",
        "random_numbers_1 = random.sample(range(20), 10) #se crea una lista aleatoria de 10 elementos del 1 al 20 sin repetición con random.sample\n",
        "\n",
        "list_2=[i for i in range(1,20)]   # se crea una lista aleatoria del 1 al 10\n",
        "UpdateList=random.choices(list_2,k=10) \n",
        "# Se crea la list con números repetidos\n",
        "repetido = []\n",
        "unico = [] \n",
        "for x in UpdateList:   #en un ciclo for se condiciona si no esta en la lista de unico o de repetido y se adiciona a la lista correspondiente\n",
        "\tif x not in unico:\n",
        "\t\tunico.append(x)\n",
        "\telse:\n",
        "\t\tif x not in repetido:\n",
        "\t\t\trepetido.append(x)\n",
        "   \n",
        "random_numbers_1.sort()\n",
        "UpdateList.sort()\n",
        "repetido.sort()\n",
        "\n",
        "print(f\"Lista sin repetición: {random_numbers_1}\")\n",
        "print(f\"Lista con repeticion: {UpdateList}\")\n",
        "print(f\"Lista con números repetidos: {repetido}\")\n",
        "\n"
      ],
      "metadata": {
        "id": "kNTR0R5aG8s7"
      },
      "id": "kNTR0R5aG8s7",
      "execution_count": null,
      "outputs": []
    },
    {
      "cell_type": "markdown",
      "metadata": {
        "id": "f114cf56"
      },
      "source": [
        "## Ejercicio 1.14. Ordenar una lista\n",
        "* Generar una lista de números aleatorios con posible repetición e imprimirla.\n",
        "* Realizar la ordenación por **dos métodos**, usando **funciones**\n",
        "* Ordenar la lista sin usar ```sort``` ni ```sorted``` e imprimirla.\n",
        "* Explicar con comentarios del programador lo que hace cada método.\n",
        "* Si el método tiene algún nombre conocido indicarlo, por ejemplo, método de la burbuja."
      ],
      "id": "f114cf56"
    },
    {
      "cell_type": "code",
      "source": [
        "import random\n",
        "\n",
        "list_2=[i for i in range(1,20)]\n",
        "UpdateList=random.choices(list_2,k=10)\n",
        "\n",
        "def list_sort1(lista):\n",
        "  for lugar_a_llenar in range(len(lista) - 1, 0, -1):\n",
        "    posicion_maximo = 0\n",
        "    for lugar in range(1, lugar_a_llenar + 1):\n",
        "      if lista[lugar] > lista[posicion_maximo]:\n",
        "        posicion_maximo = lugar\n",
        "    # Intercambio de elementos\n",
        "    aux = lista[lugar_a_llenar]\n",
        "    lista[lugar_a_llenar] = lista[posicion_maximo]\n",
        "    lista[posicion_maximo] = aux\n",
        "\n",
        "\n",
        "def list_sort2(lista1):\n",
        "  for x in range(len(lista1)):\n",
        "    for y in range(len(lista1)):\n",
        "      if lista1[x] < lista1[y]:\n",
        "        aux = lista1[x]\n",
        "        lista1[x] = lista1[y]\n",
        "        lista1[y] = aux\n",
        "\n",
        "list_sort2(UpdateList)\n",
        "print(UpdateList)\n",
        "\n",
        "#list_sort1(UpdateList)\n",
        "#print(UpdateList)"
      ],
      "metadata": {
        "colab": {
          "base_uri": "https://localhost:8080/"
        },
        "id": "m51iZ8FlUuw5",
        "outputId": "e60053f7-a02a-4da0-a374-0b1f2a6b23c9"
      },
      "id": "m51iZ8FlUuw5",
      "execution_count": null,
      "outputs": [
        {
          "output_type": "stream",
          "name": "stdout",
          "text": [
            "[1, 5, 5, 6, 6, 9, 9, 10, 14, 18]\n"
          ]
        }
      ]
    },
    {
      "cell_type": "markdown",
      "metadata": {
        "id": "be25b009"
      },
      "source": [
        "## Ejercicio 1.15. Función separa\n",
        "* Genere e imprima una lista de 15 elementos, con números enteros, aleatorios con posible repetición, entre -20 y 20.\n",
        "* Cree una función que separe los elementos de la lista anterior en dos listas\n",
        " - por un lado, los números pares y\n",
        " - por otro, los impares\n",
        "* Las nuevas listas tendrán sus elementos ordenados y sin repetición.\n",
        "* Imprima las listas.\n",
        "* Imprima la desviación típica de cada lista, indicando cuál es la mayor, si la de los pares o la de los impares.\n",
        "* Utilice funciones."
      ],
      "id": "be25b009"
    },
    {
      "cell_type": "code",
      "source": [
        "import random\n",
        "import statistics\n",
        "\n",
        "list_2=[i for i in range(-20,20)]\n",
        "UpdateList=random.choices(list_2,k=10)\n",
        "\n",
        "list_pares = []\n",
        "list_impares = []\n",
        "\n",
        "for i in UpdateList:\n",
        "    if i%2:\n",
        "        list_impares.append(i)\n",
        "    else:\n",
        "        list_pares.append(i)\n",
        "\n",
        "list_sin_pares=list(set(list_pares))\n",
        "list_sin_pares.sort()\n",
        "list_sin_impares=list(set(list_impares))\n",
        "list_sin_impares.sort()\n",
        "desv_list_sin_pares=statistics.pstdev(list_sin_pares)\n",
        "desv_list_sin_impares=statistics.pstdev(list_sin_impares)\n",
        "\n",
        "print(f\"Lista de pares: {list_sin_pares} y su desviación es: {str(desv_list_sin_pares)}\")\n",
        "print(f\"Lista de impares: {list_sin_impares} y su desviación es: {str(desv_list_sin_impares)}\")\n",
        "if str(desv_list_sin_pares) > str(desv_list_sin_impares):\n",
        "  print(f\"La desviación de la lista de pares es mayor\")\n",
        "else:\n",
        "  print(f\"La desviación de la lista de impares es mayor\")\n"
      ],
      "metadata": {
        "colab": {
          "base_uri": "https://localhost:8080/"
        },
        "id": "evoLdEPUIdbd",
        "outputId": "e4d7b7a4-256e-4918-9122-efea320cae25"
      },
      "id": "evoLdEPUIdbd",
      "execution_count": null,
      "outputs": [
        {
          "output_type": "stream",
          "name": "stdout",
          "text": [
            "Lista de pares: [-10, -4, 4, 14, 18] y su desviación es: 10.537551897855591\n",
            "Lista de impares: [-13, -1, 1, 15, 19] y su desviación es: 11.565465835840769\n",
            "La desviación de la lista de impares es mayor\n"
          ]
        }
      ]
    },
    {
      "cell_type": "markdown",
      "metadata": {
        "id": "c9e64049"
      },
      "source": [
        "## Ejercicio 1.16. Binario a decimal\n",
        "* Pedir al usuario que introduzca un número binario y convertirlo a decimal.\n",
        "* Mostrar en pantalla también el modo de llegar a ese resultado.\n",
        "* Por ejemplo, si el binario es 101011, entonces se ha de imprimir el proceso que es:\n",
        " - 1\\*2^5 + 0\\*2^4 + 1\\*2^3 + 0\\*2^2 + 1\\*2^1 + 1\\*2^0 = 43\n",
        "\n",
        "![Binario a decimal](https://github.com/financieras/pyCourse/blob/main/jupyter/img/binario_a_decimal.jpg?raw=1)"
      ],
      "id": "c9e64049"
    },
    {
      "cell_type": "code",
      "source": [
        "numero_binario=input(\"Por favor, escribir un núemro binario: \")\n",
        "\n",
        "posicion = len(numero_binario)-1 #posición del primer dígito por la izquierda\n",
        "\n",
        "for digito_string in numero_binario:\n",
        "\tdigito = int(digito_string)\n",
        "\tposicion -= 1 # restamos 1 a la posición\n",
        "\n",
        "for posicion, digito_string in enumerate(numero_binario[::-1]):\n",
        "\tdigito = int(digito_string)\n",
        "\tmultiplicacion = digito * 2 ** posicion;\n",
        "\tprint(f\"{digito} * 2 ^ {posicion} = {multiplicacion}\")\n",
        "\t#print(f'Dígito: {digito}, posición: {posicion}, multiplicación: {multiplicacion}')\n",
        " \n",
        "numero_decimal = 0 #aquí iremos sumando el resultado de cada multiplicación\n",
        "\n",
        "for posicion, digito_string in enumerate(numero_binario[::-1]):\n",
        "\tnumero_decimal += int(digito_string) * 2 ** posicion\n",
        "\n",
        "print(f'El número decimal es: {numero_decimal}')"
      ],
      "metadata": {
        "id": "3VzsNUkWOEiP"
      },
      "id": "3VzsNUkWOEiP",
      "execution_count": null,
      "outputs": []
    },
    {
      "cell_type": "markdown",
      "metadata": {
        "id": "8b2016cf"
      },
      "source": [
        "## Ejercicio 1.17. Decimal a binario\n",
        "* Pedir al usuario que introduzca un número decimal y convertirlo a binario.\n",
        "* Mostrar en pantalla el decimal introducido y su equivalente en binario. \n",
        "* Mostrar en pantalla una **tabla** similar a la del siguiente ejemplo.\n",
        "* La tabla explica la forma de llegar al resultado en binario.\n",
        "\n",
        "![Decimal a binario](https://github.com/financieras/pyCourse/blob/main/jupyter/img/decimal_a_binario.jpg?raw=1)"
      ],
      "id": "8b2016cf"
    },
    {
      "cell_type": "code",
      "source": [
        "numero_decimal=int(input(\"Por favor, escribir un número binario: \"))\n",
        "\n",
        "modulos = [] # la lista para guardar los módulos\n",
        "print(f\"Partiendo del decimal: {numero_decimal}\")\n",
        "print(\"_\"*40)\n",
        "print(\"   ndecimal      entero       rest\")\n",
        "print(\"=\"*40)\n",
        "while numero_decimal != 0: # mientras el número de entrada sea diferente de cero\n",
        "    # paso 1: dividimos entre 2\n",
        "    modulo = numero_decimal % 2\n",
        "    cociente = numero_decimal // 2\n",
        "    modulos.append(modulo) # guardamos el módulo calculado\n",
        "    numero_decimal = cociente # el cociente pasa a ser el número de entrada\n",
        "    num = cociente * 2 + modulo\n",
        "    print(\"{:>9}{:13}{:10}\".format(num,cociente,modulo))\n",
        "\n",
        "print(modulos)\n"
      ],
      "metadata": {
        "id": "K7HXAVO9wmUJ"
      },
      "id": "K7HXAVO9wmUJ",
      "execution_count": null,
      "outputs": []
    },
    {
      "cell_type": "markdown",
      "metadata": {
        "id": "d51b4dab"
      },
      "source": [
        "## Ejercicio 1.18. Suma de dos números para llegar al target\n",
        "* Generar un número entero aleatorio entre 2 y 20. A este número le llamaremos target. \n",
        "* Generar una lista de números aleatorios enteros entre -10 y 10.\n",
        "* La lista puede tener desde un mínimo de dos elementos a un máximo de seis.\n",
        "* La lista debe contener dos números que sumados nos den el target.\n",
        "* El programa generará un target y una lista y verificará que se cumple la condición de la suma.\n",
        "* En caso de que no se cumpla seguirá generando otro target y otra lista hasta conseguirlo.\n",
        "* La lista debe ser de **solución única**, esto es, solo puede haber un par de números que sumados den el target. \n",
        "* Como ejemplo se puede ver la siguiente imagen donde mostramos tres listas que cumplen la condición.\n",
        "* En su caso, debe generar y mostrar 100 listas que cumplan los requisitos pedidos.\n",
        "\n",
        "![Sumar dos numeros](https://github.com/financieras/pyCourse/blob/main/jupyter/img/sumar_dos_numeros.jpg?raw=1)"
      ],
      "id": "d51b4dab"
    },
    {
      "cell_type": "code",
      "source": [
        "import random\n",
        "random.seed()\n",
        "target = random.randint(2, 20)\n",
        "print(f\"Target: {target}\")\n",
        "while True:\n",
        "    lista = []\n",
        "    for j in range(random.randint(6,15)):\n",
        "        lista.append(random.randint(-9,9))\n",
        "    if sum(lista)==target:\n",
        "        print(f\"{lista} Target: {target}\")\n",
        "        break"
      ],
      "metadata": {
        "id": "89b5h0pVergs"
      },
      "id": "89b5h0pVergs",
      "execution_count": null,
      "outputs": []
    },
    {
      "cell_type": "markdown",
      "metadata": {
        "id": "71e906cb"
      },
      "source": [
        "## Ejercicio 1.19. Segundo mínimo en listas anidadas\n",
        "* Disponemos de la siguiente lista anidada:\n",
        " - [[\"Ana\",1],[\"Raúl\",1],[\"Jose\",9],[\"David\",7],[\"Eva\",8],[\"Felipe\",4],[\"Héctor\",9],[\"Isabel\",4],[\"Susana\",5]]\n",
        "* El mínimo de esta lista es 1 que recae en Ana y Raúl.\n",
        "* El segundo mínimo de esta lista es 4 que está asociado a Felipe e Isabel.\n",
        "* Estamos buscando los nombres que están asociados al segundo mínimo.\n",
        "* Para esta lista, el procedimiento debería proporcionar como salida: Felipe, Isabel.\n",
        "* Crear un procedimiento que genere listas anidadas similares a la del ejemplo, de longitud variable, que contenga entre 2 y 9 sublistas.\n",
        "* Se debe **garantizar que existe el segundo mínimo**. El segundo mínimo no existiría si todos los valores numéricos coincidieran.\n",
        "* El programa mostrará en pantalla la lista generada y el nombre o nombres asociados con el segundo mínimo.\n",
        "* Utilice una o varias **funciones** para lograrlo.\n",
        "* Otros ejemplos:\n",
        " - [[\"Iris\",5],[\"Gala\",2],[\"Zoe\",8]] El segundo mínimo lo tiene: Iris.\n",
        " - [[\"Abel\",3],[\"Blas\",2],[\"Hugo\",8],[\"Leo\",3]] El segundo mínimo lo tienen: Abel y Leo."
      ],
      "id": "71e906cb"
    },
    {
      "cell_type": "markdown",
      "source": [
        ""
      ],
      "metadata": {
        "id": "p2eAtuEsV42n"
      },
      "id": "p2eAtuEsV42n"
    },
    {
      "cell_type": "code",
      "source": [
        "#el código da como resultado el segundo mínimo pero no cuando existen dos segundos mínimos\n",
        "\n",
        "def lista_nombres():\n",
        "    nombres=[]\n",
        "    primer_minimo=[]\n",
        "    n=int(input(\"¿Cuántos nombres tiene la lista? : \"))\n",
        "    for x in range(n):\n",
        "        nom=input(\"Ingresar un nombre: \")\n",
        "        cant=int(input(\"Ingrese un numero: \"))\n",
        "        nombres.append((nom,cant))\n",
        "    return nombres\n",
        "\n",
        "def imprimir(nombres):\n",
        "    print(\"Nombres y su numero\")\n",
        "    for x in range(len(nombres)):\n",
        "        print(nombres[x][0],nombres[x][1])\n",
        "\n",
        "nombres = lista_nombres()\n",
        "\n",
        "\n",
        "print(f\"La lista es: {nombres}\")\n",
        "primer_minimo=nombres.remove(min(nombres, key = lambda x: x[1]))\n",
        "segundo_minimo = min(nombres, key = lambda x: x[1])\n",
        "print(f\" El segundo mínimo lo tiene: {segundo_minimo}\")\n"
      ],
      "metadata": {
        "colab": {
          "base_uri": "https://localhost:8080/"
        },
        "id": "HCw4w4SWiB1S",
        "outputId": "ec338fd4-99c6-4f3f-d546-4b8e1c34a8eb"
      },
      "id": "HCw4w4SWiB1S",
      "execution_count": null,
      "outputs": [
        {
          "output_type": "stream",
          "name": "stdout",
          "text": [
            "¿Cuántos nombres tiene la lista? : 3\n",
            "Ingresar un nombre: Iris\n",
            "Ingrese un numero: 3\n",
            "Ingresar un nombre: Abel\n",
            "Ingrese un numero: 5\n",
            "Ingresar un nombre: Jorge\n",
            "Ingrese un numero: 6\n",
            "La lista es: [('Iris', 3), ('Abel', 5), ('Jorge', 6)]\n",
            " El segundo mínimo lo tiene: ('Abel', 5)\n"
          ]
        }
      ]
    },
    {
      "cell_type": "markdown",
      "metadata": {
        "id": "42fae779"
      },
      "source": [
        "## Ejercicio 1.20. Lista de impares\n",
        "* Generar números enteros aleatorios entre 10 y 99 (ambos incluidos) y con posible repetición. Estos números se incorporarán a una lista de longitud 17.\n",
        "* Generar continuamente listas de este tipo hasta lograr una donde todos sus elementos sean impares y sin repetición.\n",
        "* Indique cuántas listas fueron generadas hasta llegar a la que cumple estos requisitos.\n",
        "* Imprimir la lista obtenida de forma ordenada, de mayor a menor.\n",
        "* Imprimir el tiempo que se ha tardado en lograr esa lista expresado en segundos con hasta **6 decimales**.\n",
        "\n",
        "#### *Nota*\n",
        "* La \"longitud 17\" es orientativa para que el número de segundos empleados no sea muy grande, ni una fracción muy pequeña de un segundo.\n",
        "* Si en su ordenador y con su código se alcanzan tiempos excesivamente grandes pruebe con listas de longitud algo menor, por ejemplo, con 16 o menos.\n",
        "\n",
        "![Impares](https://github.com/financieras/pyCourse/blob/main/jupyter/img/impares.jpg?raw=1)"
      ],
      "id": "42fae779"
    },
    {
      "cell_type": "code",
      "source": [
        "import time\n",
        "import random\n",
        "start = time.time()\n",
        "nlistas = 0        # número de listas creadas\n",
        "n = 17             # número de elementos de la lista\n",
        "hayimpar = False   # booleano para detectar un impar, inicialmente no hay impar\n",
        "\n",
        "while True:\n",
        "    l = random.sample(range(9,101), n)  # aleatorios sin repetición\n",
        "    nlistas += 1\n",
        "    nimpares = 0   # cuenta cuántos pares existen\n",
        "    for i in l:\n",
        "        if i%2 != 0:\n",
        "            nimpares += 1\n",
        "        else:\n",
        "            haypar = True\n",
        "    if nimpares == n-1 and haypar:\n",
        "        break\n",
        "end = time.time()\n",
        "time=(end - start)\n",
        "l.sort(reverse=True)\n",
        "print(f\"Hemos conseguido la lista objetivo en el intento {nlistas}.\")\n",
        "print(l)\n",
        "print(\"{:.6f}\".format(time))\n",
        "print(f\"segundos \")"
      ],
      "metadata": {
        "id": "bDWq1SQMZd6f"
      },
      "id": "bDWq1SQMZd6f",
      "execution_count": null,
      "outputs": []
    }
  ],
  "metadata": {
    "colab": {
      "name": "Copia de Copia de practica1.ipynb",
      "provenance": [],
      "collapsed_sections": [],
      "include_colab_link": true
    },
    "kernelspec": {
      "display_name": "Python 3 (ipykernel)",
      "language": "python",
      "name": "python3"
    },
    "language_info": {
      "codemirror_mode": {
        "name": "ipython",
        "version": 3
      },
      "file_extension": ".py",
      "mimetype": "text/x-python",
      "name": "python",
      "nbconvert_exporter": "python",
      "pygments_lexer": "ipython3",
      "version": "3.8.11"
    }
  },
  "nbformat": 4,
  "nbformat_minor": 5
}